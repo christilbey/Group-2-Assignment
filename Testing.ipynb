{
 "cells": [
  {
   "cell_type": "code",
   "execution_count": 46,
   "id": "8f976f5b",
   "metadata": {},
   "outputs": [],
   "source": [
    "import os\n",
    "import requests\n",
    "import pandas as pd\n",
    "import json\n",
    "from dotenv import load_dotenv\n",
    "import numpy as np\n",
    "import hvplot.pandas\n",
    "from sklearn import linear_model\n",
    "from matplotlib import pyplot as plt\n",
    "%matplotlib inline"
   ]
  },
  {
   "cell_type": "code",
   "execution_count": 47,
   "id": "1684642d",
   "metadata": {},
   "outputs": [],
   "source": [
    "from nba_api.stats.static import players\n",
    "from nba_api.stats.static import teams \n",
    "from nba_api.stats.endpoints import leaguegamefinder\n",
    "from nba_api.stats.endpoints import playergamelog\n",
    "from nba_api.stats import endpoints\n",
    "from nba_api.stats.library.parameters import NumberOfGames, SeasonAll, SeasonTypeAllStar, LeagueIDNullable"
   ]
  },
  {
   "cell_type": "code",
   "execution_count": 48,
   "id": "df2da709",
   "metadata": {},
   "outputs": [],
   "source": [
    "#getting player's game ID\n",
    "#how to use function: player_id(\"Player's Name\")\n",
    "#for example: team_id('LeBron James')\n",
    "\n",
    "player_dict = players.get_players()\n",
    "teams = teams.get_teams()\n",
    "\n",
    "def player_id(playername):\n",
    "    player = [player for player in player_dict if player['full_name'] == playername][0]\n",
    "    player_id = player['id']\n",
    "    return player_id\n",
    "\n",
    "#getting team's ID\n",
    "#how to use function: player_id(\"Team's Name\") \n",
    "#for example: team_id('Golden State Warriors')\n",
    "def team_id(teamname):\n",
    "    team_find = [x for x in teams if x['full_name'] == teamname][0]\n",
    "    team_id_no = team_find['id']\n",
    "    return team_id_no\n",
    "\n",
    "#creating a function to get player's data from specific year\n",
    "#type game_log(playerID, season's year)\n",
    "#for example: game_log(2544,2018)\n",
    "\n",
    "def game_log(playerid,season):\n",
    "    player_gamelog = playergamelog.PlayerGameLog(player_id = playerid, season = season)\n",
    "    df_games = player_gamelog.get_data_frames()\n",
    "    return df_games[0]\n",
    "\n",
    "#creating a function to get a player's lifetime career in basketball\n",
    "#type all_season_log(playerID using earlier function)\n",
    "def all_season_log(playerid):\n",
    "    gamelog_bron_all = playergamelog.PlayerGameLog(player_id = playerid, season = SeasonAll.all)\n",
    "    df_bron_games_all = gamelog_bron_all.get_data_frames()\n",
    "    return df_bron_games_all[0]\n",
    "\n",
    "#creating a function to get a team's stats in basketball\n",
    "#type bkb_teamlog(Team's ID using earlier function)\n",
    "\n",
    "def bkb_teamlog(teamid):\n",
    "    team_games = leaguegamefinder.LeagueGameFinder(team_id_nullable = teamid).get_data_frames()[0]\n",
    "    return team_games\n",
    "\n",
    "#Summary: \n",
    "# 1) player_id('Player's Name')\n",
    "# 2) team_id('Team's Name')\n",
    "# 3) game_log(playerid,season)\n",
    "# 4) all_season_log(playerid)\n",
    "# 5) bkb_teamlog(teamid)"
   ]
  },
  {
   "cell_type": "code",
   "execution_count": 49,
   "id": "4ea479d5",
   "metadata": {},
   "outputs": [
    {
     "name": "stdout",
     "output_type": "stream",
     "text": [
      "Lebron ID      : 2544\n",
      "Chris Paul ID  : 101108\n",
      "James Harden ID: 201935\n",
      "Cleveland Cavaliers Team ID :1610612739\n",
      "Los Angeles Lakers Team ID  :1610612747\n",
      "Miami Heat Team ID          :1610612748\n"
     ]
    }
   ],
   "source": [
    "bron_id = player_id('LeBron James')\n",
    "chris_id = player_id('Chris Paul')\n",
    "james_id = player_id('James Harden')\n",
    "\n",
    "print(f\"Lebron ID      : {bron_id}\")\n",
    "print(f\"Chris Paul ID  : {chris_id}\")\n",
    "print(f\"James Harden ID: {james_id}\")\n",
    "\n",
    "a = team_id('Cleveland Cavaliers')\n",
    "b = team_id('Los Angeles Lakers')\n",
    "c = team_id('Miami Heat')\n",
    "\n",
    "print(f\"Cleveland Cavaliers Team ID :{a}\")\n",
    "print(f\"Los Angeles Lakers Team ID  :{b}\")\n",
    "print(f\"Miami Heat Team ID          :{c}\")\n",
    "\n",
    "#'Cleveland Cavaliers', 'Los Angeles Lakers','Miami Heat'"
   ]
  },
  {
   "cell_type": "code",
   "execution_count": 50,
   "id": "69fe723c",
   "metadata": {},
   "outputs": [],
   "source": [
    "#To extract team's raw data from a specific date\n",
    "\n",
    "def team_raw_data(start_date, end_date, teamid):\n",
    "    team_raw_data = bkb_teamlog(teamid)\n",
    "    range = (team_raw_data['GAME_DATE'] >= start_date) & (team_raw_data['GAME_DATE'] <= end_date)\n",
    "    date_extract_data = team_raw_data.loc[range]\n",
    "    return date_extract_data"
   ]
  },
  {
   "cell_type": "code",
   "execution_count": 51,
   "id": "c0463a4f",
   "metadata": {},
   "outputs": [],
   "source": [
    "#with Lebron\n",
    "\n",
    "cavs_DF1 = team_raw_data('1993-11-05','2002-04-17',1610612739)\n",
    "cavs_DF2 = team_raw_data('2007-10-30','2013-04-17',1610612739)\n",
    "la_lakers_lebron = team_raw_data('2012-12-25','2017-04-26',1610612747)\n",
    "miami_DF = team_raw_data('2003-10-28','2009-04-15',1610612748)"
   ]
  },
  {
   "cell_type": "code",
   "execution_count": 55,
   "id": "e3a33635",
   "metadata": {},
   "outputs": [],
   "source": [
    "data = endpoints.leagueleaders.LeagueLeaders() \n",
    "\n",
    "df = data.league_leaders.get_data_frame()\n",
    "\n",
    "# We divide each variable by games played (GP) to get per game average\n",
    "x, y = df.FGA/df.GP, df.PTS/df.GP \n",
    "\n",
    "x = np.array(x).reshape(-1,1)     \n",
    "y = np.array(y).reshape(-1,1)     \n",
    "\n",
    "\"\"\" Build and fit linea regression model \"\"\"\n",
    "# create an object that contains the linear model class\n",
    "# Fit our modeling using FGA (x) and PPG (y)\n",
    "model = linear_model.LinearRegression()    \n",
    "model.fit(x,y)                             \n",
    "\n",
    "# Get our r2 value and round it to 2 decimals. How much variance is exaplained?\n",
    "# Get our predicted y values for x\n",
    "r2 = round(model.score(x,y), 2)            \n",
    "predicted_y = model.predict(x)       "
   ]
  },
  {
   "cell_type": "code",
   "execution_count": 53,
   "id": "b77bafca",
   "metadata": {},
   "outputs": [
    {
     "data": {
      "text/plain": [
       "Text(10, 25, 'R2=0.96')"
      ]
     },
     "execution_count": 53,
     "metadata": {},
     "output_type": "execute_result"
    },
    {
     "data": {
      "image/png": "[encoded data removed]",
      "text/plain": [
       "<Figure size 432x288 with 1 Axes>"
      ]
     },
     "metadata": {
      "needs_background": "light"
     },
     "output_type": "display_data"
    }
   ],
   "source": [
    "plt.scatter(x, y, s=15, alpha=.5)                            # Scatterplot:  Specfiy size(s) and transparency(alpha) of dots\n",
    "plt.plot(x, predicted_y, color = 'black')                    # line: Add line for regression line w/ predicted values\n",
    "plt.title('NBA - Relationship Between FGA and PPG')          # Give it a title\n",
    "plt.xlabel('FGA per Game')                                   # Label x-axis\n",
    "plt.ylabel('Points Per Game')                                # Label y-axis\n",
    "plt.text(10,25, f'R2={r2}')                                  # 10, 25 are the coordinates for our text. Adjust accordingly"
   ]
  },
  {
   "cell_type": "code",
   "execution_count": null,
   "id": "fb01af1f",
   "metadata": {},
   "outputs": [],
   "source": []
  }
 ],
 "metadata": {
  "kernelspec": {
   "display_name": "Python [conda env:pyvizenv] *",
   "language": "python",
   "name": "conda-env-pyvizenv-py"
  },
  "language_info": {
   "codemirror_mode": {
    "name": "ipython",
    "version": 3
   },
   "file_extension": ".py",
   "mimetype": "text/x-python",
   "name": "python",
   "nbconvert_exporter": "python",
   "pygments_lexer": "ipython3",
   "version": "3.7.11"
  }
 },
 "nbformat": 4,
 "nbformat_minor": 5
}
