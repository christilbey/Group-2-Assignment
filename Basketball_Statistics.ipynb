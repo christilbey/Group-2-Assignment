{
 "cells": [
  {
   "cell_type": "code",
   "execution_count": 455,
   "id": "ab107934",
   "metadata": {},
   "outputs": [],
   "source": [
    "import os\n",
    "import requests\n",
    "import pandas as pd\n",
    "import json\n",
    "from dotenv import load_dotenv\n",
    "\n",
    "%matplotlib inline"
   ]
  },
  {
   "cell_type": "code",
   "execution_count": 456,
   "id": "a42e9c91",
   "metadata": {},
   "outputs": [],
   "source": [
    "from nba_api.stats.static import players\n",
    "from nba_api.stats.static import teams \n",
    "from nba_api.stats.endpoints import leaguegamefinder\n",
    "from nba_api.stats.endpoints import playergamelog\n",
    "from nba_api.stats.library.parameters import NumberOfGames, SeasonAll, SeasonTypeAllStar, LeagueIDNullable"
   ]
  },
  {
   "cell_type": "code",
   "execution_count": 457,
   "id": "1909640a",
   "metadata": {},
   "outputs": [],
   "source": [
    "#getting player's game ID\n",
    "#how to use function: player_id(\"Player's Name\")\n",
    "#for example: team_id('LeBron James')\n",
    "\n",
    "player_dict = players.get_players()\n",
    "teams = teams.get_teams()\n",
    "\n",
    "def player_id(playername):\n",
    "    player = [player for player in player_dict if player['full_name'] == playername][0]\n",
    "    player_id = player['id']\n",
    "    return player_id\n",
    "\n",
    "#getting team's ID\n",
    "#how to use function: player_id(\"Team's Name\") \n",
    "#for example: team_id('Golden State Warriors')\n",
    "def team_id(teamname):\n",
    "    team_find = [x for x in teams if x['full_name'] == teamname][0]\n",
    "    team_id_no = team_find['id']\n",
    "    return team_id_no\n",
    "\n",
    "#creating a function to get player's data from specific year\n",
    "#type game_log(playerID, season's year)\n",
    "#for example: game_log(2544,2018)\n",
    "\n",
    "def game_log(playerid,season):\n",
    "    player_gamelog = playergamelog.PlayerGameLog(player_id = playerid, season = season)\n",
    "    df_games = player_gamelog.get_data_frames()\n",
    "    return df_games[0]\n",
    "\n",
    "#creating a function to get a player's lifetime career in basketball\n",
    "#type all_season_log(playerID using earlier function)\n",
    "def all_season_log(playerid):\n",
    "    gamelog_bron_all = playergamelog.PlayerGameLog(player_id = playerid, season = SeasonAll.all)\n",
    "    df_bron_games_all = gamelog_bron_all.get_data_frames()\n",
    "    return df_bron_games_all[0]\n",
    "\n",
    "#creating a function to get a team's stats in basketball\n",
    "#type bkb_teamlog(Team's ID using earlier function)\n",
    "\n",
    "def bkb_teamlog(teamid):\n",
    "    team_games = leaguegamefinder.LeagueGameFinder(team_id_nullable = teamid).get_data_frames()[0]\n",
    "    return team_games\n",
    "\n",
    "#Summary: \n",
    "# 1) player_id('Player's Name')\n",
    "# 2) team_id('Team's Name')\n",
    "# 3) game_log(playerid,season)\n",
    "# 4) all_season_log(playerid)\n",
    "# 5) bkb_teamlog(teamid)"
   ]
  },
  {
   "cell_type": "code",
   "execution_count": 458,
   "id": "18f6d3ec",
   "metadata": {},
   "outputs": [
    {
     "name": "stdout",
     "output_type": "stream",
     "text": [
      "Lebron ID:       2544\n",
      "Chris Paul ID:   101108\n",
      "James Harden ID: 201935\n",
      "Cleveland Cavaliers Team ID :1610612739\n",
      "Los Angeles Lakers Team ID  :1610612747\n",
      "Miami Heat Team ID          :1610612748\n"
     ]
    }
   ],
   "source": [
    "bron_id = player_id('LeBron James')\n",
    "chris_id = player_id('Chris Paul')\n",
    "james_id = player_id('James Harden')\n",
    "\n",
    "print(f\"Lebron ID:       {bron_id}\")\n",
    "print(f\"Chris Paul ID:   {chris_id}\")\n",
    "print(f\"James Harden ID: {james_id}\")\n",
    "\n",
    "a = team_id('Cleveland Cavaliers')\n",
    "b = team_id('Los Angeles Lakers')\n",
    "c = team_id('Miami Heat')\n",
    "\n",
    "print(f\"Cleveland Cavaliers Team ID :{a}\")\n",
    "print(f\"Los Angeles Lakers Team ID  :{b}\")\n",
    "print(f\"Miami Heat Team ID          :{c}\")\n",
    "\n",
    "#'Cleveland Cavaliers', 'Los Angeles Lakers','Miami Heat'"
   ]
  },
  {
   "cell_type": "code",
   "execution_count": 470,
   "id": "658f95f1",
   "metadata": {},
   "outputs": [],
   "source": [
    "#To extract team's raw data from a specific date\n",
    "\n",
    "def team_raw_data(start_date, end_date, teamid):\n",
    "    team_raw_data = bkb_teamlog(teamid)\n",
    "    range = (team_raw_data['GAME_DATE'] >= start_date) & (team_raw_data['GAME_DATE'] <= end_date)\n",
    "    date_extract_data = team_raw_data.loc[range]\n",
    "    return date_extract_data"
   ]
  },
  {
   "cell_type": "code",
   "execution_count": 471,
   "id": "fc340786",
   "metadata": {},
   "outputs": [],
   "source": [
    "#To display win loss ratio (IF we need to)\n",
    "\n",
    "def win_loss_ratio(start_date, end_date, teamid):\n",
    "    team_raw_data = bkb_teamlog(teamid)\n",
    "    range = (team_raw_data['GAME_DATE'] >= start_date) & (team_raw_data['GAME_DATE'] <= end_date)\n",
    "    date_extract_data = team_raw_data.loc[range]\n",
    "    win_loss = date_extract_data[\"WL\"]\n",
    "    WL_list = win_loss.values.tolist()\n",
    "    \n",
    "    amount_of_W = WL_list.count('W')\n",
    "    amount_of_L = WL_list.count('L')\n",
    "    win_rate = (WL_list.count('W')/len(WL_list))*100\n",
    "    \n",
    "    return print(f\"Team ID: {teamid}, Win Count: {amount_of_W}, Loss Count: {amount_of_L}, Win Rate: {win_rate:.1f}%\")"
   ]
  },
  {
   "cell_type": "code",
   "execution_count": 484,
   "id": "321eb7e3",
   "metadata": {},
   "outputs": [],
   "source": [
    "cavs_DF = team_raw_data('2007-10-30','2013-04-17',1610612739)\n",
    "la_lakers_DF = team_raw_data('2011-12-25','2012-04-26',1610612747)\n",
    "miami_DF = team_raw_data('2003-10-28','2009-04-15',1610612748)"
   ]
  },
  {
   "cell_type": "code",
   "execution_count": 486,
   "id": "5b9cbd4e",
   "metadata": {},
   "outputs": [],
   "source": [
    "miami_set_index = miami_DF.set_index(\"GAME_DATE\")"
   ]
  },
  {
   "cell_type": "code",
   "execution_count": null,
   "id": "aa94db66",
   "metadata": {},
   "outputs": [],
   "source": []
  },
  {
   "cell_type": "code",
   "execution_count": null,
   "id": "298a2d32",
   "metadata": {},
   "outputs": [],
   "source": []
  }
 ],
 "metadata": {
  "kernelspec": {
   "display_name": "Python [conda env:pyvizenv] *",
   "language": "python",
   "name": "conda-env-pyvizenv-py"
  },
  "language_info": {
   "codemirror_mode": {
    "name": "ipython",
    "version": 3
   },
   "file_extension": ".py",
   "mimetype": "text/x-python",
   "name": "python",
   "nbconvert_exporter": "python",
   "pygments_lexer": "ipython3",
   "version": "3.7.11"
  }
 },
 "nbformat": 4,
 "nbformat_minor": 5
}
