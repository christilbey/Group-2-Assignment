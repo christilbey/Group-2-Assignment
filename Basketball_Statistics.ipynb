{
 "cells": [
  {
   "cell_type": "code",
   "execution_count": 750,
   "id": "57a070f2",
   "metadata": {},
   "outputs": [],
   "source": [
    "import os\n",
    "import requests\n",
    "import pandas as pd\n",
    "import json\n",
    "from dotenv import load_dotenv\n",
    "import hvplot.pandas\n",
    "\n",
    "%matplotlib inline"
   ]
  },
  {
   "cell_type": "code",
   "execution_count": 751,
   "id": "ddb95dad",
   "metadata": {},
   "outputs": [],
   "source": [
    "from nba_api.stats.static import players\n",
    "from nba_api.stats.static import teams \n",
    "from nba_api.stats.endpoints import leaguegamefinder\n",
    "from nba_api.stats.endpoints import playergamelog\n",
    "from nba_api.stats.library.parameters import NumberOfGames, SeasonAll, SeasonTypeAllStar, LeagueIDNullable"
   ]
  },
  {
   "cell_type": "code",
   "execution_count": 752,
   "id": "c7cae1d9",
   "metadata": {},
   "outputs": [],
   "source": [
    "#getting player's game ID\n",
    "#how to use function: player_id(\"Player's Name\")\n",
    "#for example: team_id('LeBron James')\n",
    "\n",
    "player_dict = players.get_players()\n",
    "teams = teams.get_teams()\n",
    "\n",
    "def player_id(playername):\n",
    "    player = [player for player in player_dict if player['full_name'] == playername][0]\n",
    "    player_id = player['id']\n",
    "    return player_id\n",
    "\n",
    "#getting team's ID\n",
    "#how to use function: player_id(\"Team's Name\") \n",
    "#for example: team_id('Golden State Warriors')\n",
    "def team_id(teamname):\n",
    "    team_find = [x for x in teams if x['full_name'] == teamname][0]\n",
    "    team_id_no = team_find['id']\n",
    "    return team_id_no\n",
    "\n",
    "#creating a function to get player's data from specific year\n",
    "#type game_log(playerID, season's year)\n",
    "#for example: game_log(2544,2018)\n",
    "\n",
    "def game_log(playerid,season):\n",
    "    player_gamelog = playergamelog.PlayerGameLog(player_id = playerid, season = season)\n",
    "    df_games = player_gamelog.get_data_frames()\n",
    "    return df_games[0]\n",
    "\n",
    "#creating a function to get a player's lifetime career in basketball\n",
    "#type all_season_log(playerID using earlier function)\n",
    "def all_season_log(playerid):\n",
    "    gamelog_bron_all = playergamelog.PlayerGameLog(player_id = playerid, season = SeasonAll.all)\n",
    "    df_bron_games_all = gamelog_bron_all.get_data_frames()\n",
    "    return df_bron_games_all[0]\n",
    "\n",
    "#creating a function to get a team's stats in basketball\n",
    "#type bkb_teamlog(Team's ID using earlier function)\n",
    "\n",
    "def bkb_teamlog(teamid):\n",
    "    team_games = leaguegamefinder.LeagueGameFinder(team_id_nullable = teamid).get_data_frames()[0]\n",
    "    return team_games\n",
    "\n",
    "#Summary: \n",
    "# 1) player_id('Player's Name')\n",
    "# 2) team_id('Team's Name')\n",
    "# 3) game_log(playerid,season)\n",
    "# 4) all_season_log(playerid)\n",
    "# 5) bkb_teamlog(teamid)"
   ]
  },
  {
   "cell_type": "code",
   "execution_count": 753,
   "id": "89103907",
   "metadata": {},
   "outputs": [
    {
     "name": "stdout",
     "output_type": "stream",
     "text": [
      "Lebron ID      : 2544\n",
      "Chris Paul ID  : 101108\n",
      "James Harden ID: 201935\n",
      "Cleveland Cavaliers Team ID :1610612739\n",
      "Los Angeles Lakers Team ID  :1610612747\n",
      "Miami Heat Team ID          :1610612748\n"
     ]
    }
   ],
   "source": [
    "bron_id = player_id('LeBron James')\n",
    "chris_id = player_id('Chris Paul')\n",
    "james_id = player_id('James Harden')\n",
    "\n",
    "print(f\"Lebron ID      : {bron_id}\")\n",
    "print(f\"Chris Paul ID  : {chris_id}\")\n",
    "print(f\"James Harden ID: {james_id}\")\n",
    "\n",
    "a = team_id('Cleveland Cavaliers')\n",
    "b = team_id('Los Angeles Lakers')\n",
    "c = team_id('Miami Heat')\n",
    "\n",
    "print(f\"Cleveland Cavaliers Team ID :{a}\")\n",
    "print(f\"Los Angeles Lakers Team ID  :{b}\")\n",
    "print(f\"Miami Heat Team ID          :{c}\")\n",
    "\n",
    "#'Cleveland Cavaliers', 'Los Angeles Lakers','Miami Heat'"
   ]
  },
  {
   "cell_type": "code",
   "execution_count": 754,
   "id": "cc71d1fe",
   "metadata": {},
   "outputs": [],
   "source": [
    "#To extract team's raw data from a specific date\n",
    "\n",
    "def team_raw_data(start_date, end_date, teamid):\n",
    "    team_raw_data = bkb_teamlog(teamid)\n",
    "    range = (team_raw_data['GAME_DATE'] >= start_date) & (team_raw_data['GAME_DATE'] <= end_date)\n",
    "    date_extract_data = team_raw_data.loc[range]\n",
    "    return date_extract_data"
   ]
  },
  {
   "cell_type": "code",
   "execution_count": 755,
   "id": "cdbabddc",
   "metadata": {},
   "outputs": [],
   "source": [
    "#without Lebron\n",
    "\n",
    "cavs_DF1 = team_raw_data('1999-02-02','2003-04-16',1610612739)\n",
    "miami_DF = team_raw_data('2004-11-02','2009-04-15',1610612748)\n",
    "cavs_DF2 = team_raw_data('2007-10-30','2013-04-17',1610612739)\n",
    "la_lakers_before_lebron = team_raw_data('2014-10-28','2018-04-11',1610612747)\n",
    "\n",
    "cavs_DF1_withlebron = team_raw_data('2066-10-31','2010-04-14',1610612739)\n",
    "miami_DF_withlebron = team_raw_data('2010-10-26','2014-04-16',1610612748)\n",
    "cavs_DF2_withlebron = team_raw_data('2014-10-28','2017-04-12',1610612739)\n",
    "la_lakers_DF_withlebron = team_raw_data('2018-10-16','2022-04-04',1610612747)"
   ]
  },
  {
   "cell_type": "code",
   "execution_count": 756,
   "id": "7fab2f32",
   "metadata": {},
   "outputs": [
    {
     "data": {
      "text/html": [
       "<div>\n",
       "<style scoped>\n",
       "    .dataframe tbody tr th:only-of-type {\n",
       "        vertical-align: middle;\n",
       "    }\n",
       "\n",
       "    .dataframe tbody tr th {\n",
       "        vertical-align: top;\n",
       "    }\n",
       "\n",
       "    .dataframe thead th {\n",
       "        text-align: right;\n",
       "    }\n",
       "</style>\n",
       "<table border=\"1\" class=\"dataframe\">\n",
       "  <thead>\n",
       "    <tr style=\"text-align: right;\">\n",
       "      <th></th>\n",
       "      <th>Year</th>\n",
       "      <th>LAL_Mean_no_Lebron</th>\n",
       "    </tr>\n",
       "  </thead>\n",
       "  <tbody>\n",
       "    <tr>\n",
       "      <th>0</th>\n",
       "      <td>2014</td>\n",
       "      <td>102.562500</td>\n",
       "    </tr>\n",
       "    <tr>\n",
       "      <th>1</th>\n",
       "      <td>2015</td>\n",
       "      <td>95.250000</td>\n",
       "    </tr>\n",
       "    <tr>\n",
       "      <th>2</th>\n",
       "      <td>2016</td>\n",
       "      <td>99.785714</td>\n",
       "    </tr>\n",
       "    <tr>\n",
       "      <th>3</th>\n",
       "      <td>2017</td>\n",
       "      <td>105.084211</td>\n",
       "    </tr>\n",
       "    <tr>\n",
       "      <th>4</th>\n",
       "      <td>2018</td>\n",
       "      <td>108.638298</td>\n",
       "    </tr>\n",
       "  </tbody>\n",
       "</table>\n",
       "</div>"
      ],
      "text/plain": [
       "   Year  LAL_Mean_no_Lebron\n",
       "0  2014          102.562500\n",
       "1  2015           95.250000\n",
       "2  2016           99.785714\n",
       "3  2017          105.084211\n",
       "4  2018          108.638298"
      ]
     },
     "execution_count": 756,
     "metadata": {},
     "output_type": "execute_result"
    }
   ],
   "source": [
    "#Extracting only \"Years\" from \"GAME_DATE\"\n",
    "la_lakers_before_lebron['Year'] = pd.DatetimeIndex(la_lakers_before_lebron['GAME_DATE']).year\n",
    "la_lakers_nolebron_DF = la_lakers_before_lebron\n",
    "\n",
    "#Including only columns which we are analysising\n",
    "a = la_lakers_nolebron_DF.loc[:,['GAME_DATE', 'Year', 'PTS','WL']]\n",
    "\n",
    "lal_DF_nolebron = a.rename(columns={\"PTS\": \"LAL_Mean_no_Lebron\"})\n",
    "lal_mean_DF = lal_DF_nolebron.groupby(\"Year\").mean().reset_index()\n",
    "lal_mean_DF"
   ]
  },
  {
   "cell_type": "code",
   "execution_count": 757,
   "id": "437af36a",
   "metadata": {},
   "outputs": [
    {
     "data": {
      "text/plain": [
       "[2014, 2015, 2016, 2017, 2018]"
      ]
     },
     "execution_count": 757,
     "metadata": {},
     "output_type": "execute_result"
    }
   ],
   "source": [
    "years = lal_mean_DF['Year'].tolist()\n",
    "years"
   ]
  },
  {
   "cell_type": "code",
   "execution_count": 758,
   "id": "387fed3d",
   "metadata": {},
   "outputs": [
    {
     "name": "stderr",
     "output_type": "stream",
     "text": [
      "C:\\Users\\yfkok\\anaconda3\\envs\\pyvizenv\\lib\\site-packages\\ipykernel_launcher.py:7: FutureWarning: Dropping of nuisance columns in DataFrame reductions (with 'numeric_only=None') is deprecated; in a future version this will raise TypeError.  Select only valid columns before calling the reduction.\n",
      "  import sys\n"
     ]
    }
   ],
   "source": [
    "#Calculating standard deviation of each year's points\n",
    "#Have to extract each year's data separately for std.function to work\n",
    "#append each year's SD into a dataframe\n",
    "team_SD = pd.DataFrame()\n",
    "team_winrate = []\n",
    "for year in years:\n",
    "    lal_SD = lal_DF_nolebron.loc[lal_DF_nolebron['Year'] == year].std().drop(\"Year\")\n",
    "    a = list(lal_SD)\n",
    "    team_SD = team_SD.append(a)\n",
    "     \n",
    "    b = la_lakers_nolebron_DF.loc[la_lakers_nolebron_DF['Year'] == year]\n",
    "    lal_WR = b['WL'].to_list()\n",
    "    winrate = lal_WR.count('W')/len(lal_WR)\n",
    "    team_winrate.append(winrate)"
   ]
  },
  {
   "cell_type": "code",
   "execution_count": 759,
   "id": "c982b782",
   "metadata": {},
   "outputs": [
    {
     "data": {
      "text/html": [
       "<div>\n",
       "<style scoped>\n",
       "    .dataframe tbody tr th:only-of-type {\n",
       "        vertical-align: middle;\n",
       "    }\n",
       "\n",
       "    .dataframe tbody tr th {\n",
       "        vertical-align: top;\n",
       "    }\n",
       "\n",
       "    .dataframe thead th {\n",
       "        text-align: right;\n",
       "    }\n",
       "</style>\n",
       "<table border=\"1\" class=\"dataframe\">\n",
       "  <thead>\n",
       "    <tr style=\"text-align: right;\">\n",
       "      <th></th>\n",
       "      <th>LAL_Mean_no_Lebron</th>\n",
       "      <th>LAL_SD</th>\n",
       "      <th>LAL_WR</th>\n",
       "    </tr>\n",
       "    <tr>\n",
       "      <th>Year</th>\n",
       "      <th></th>\n",
       "      <th></th>\n",
       "      <th></th>\n",
       "    </tr>\n",
       "  </thead>\n",
       "  <tbody>\n",
       "    <tr>\n",
       "      <th>2014</th>\n",
       "      <td>102.562500</td>\n",
       "      <td>10.162986</td>\n",
       "      <td>0.312500</td>\n",
       "    </tr>\n",
       "    <tr>\n",
       "      <th>2015</th>\n",
       "      <td>95.250000</td>\n",
       "      <td>12.509365</td>\n",
       "      <td>0.218750</td>\n",
       "    </tr>\n",
       "    <tr>\n",
       "      <th>2016</th>\n",
       "      <td>99.785714</td>\n",
       "      <td>12.610133</td>\n",
       "      <td>0.285714</td>\n",
       "    </tr>\n",
       "    <tr>\n",
       "      <th>2017</th>\n",
       "      <td>105.084211</td>\n",
       "      <td>12.288780</td>\n",
       "      <td>0.347368</td>\n",
       "    </tr>\n",
       "    <tr>\n",
       "      <th>2018</th>\n",
       "      <td>108.638298</td>\n",
       "      <td>11.664561</td>\n",
       "      <td>0.510638</td>\n",
       "    </tr>\n",
       "  </tbody>\n",
       "</table>\n",
       "</div>"
      ],
      "text/plain": [
       "      LAL_Mean_no_Lebron     LAL_SD    LAL_WR\n",
       "Year                                         \n",
       "2014          102.562500  10.162986  0.312500\n",
       "2015           95.250000  12.509365  0.218750\n",
       "2016           99.785714  12.610133  0.285714\n",
       "2017          105.084211  12.288780  0.347368\n",
       "2018          108.638298  11.664561  0.510638"
      ]
     },
     "execution_count": 759,
     "metadata": {},
     "output_type": "execute_result"
    }
   ],
   "source": [
    "#creating winrate dataframe\n",
    "WR_DF = pd.DataFrame(team_winrate) \n",
    "WR_DF['Year'] = years\n",
    "WR_DF = WR_DF.set_index('Year').rename(columns={0: 'LAL_WR'})\n",
    "\n",
    "#creating standard deviation\n",
    "team_SD['Year'] = years\n",
    "SD_DF = team_SD.set_index('Year').rename(columns={0: 'LAL_SD'})\n",
    "\n",
    "#concatenate both mean & SD values on the same dataframe\n",
    "lal_mean_DF = lal_mean_DF.set_index(\"Year\")\n",
    "LAL_main_DF = pd.concat([lal_mean_DF, SD_DF, WR_DF], axis='columns')\n",
    "\n",
    "LAL_main_DF"
   ]
  },
  {
   "cell_type": "code",
   "execution_count": null,
   "id": "795e53ef",
   "metadata": {},
   "outputs": [],
   "source": []
  },
  {
   "cell_type": "code",
   "execution_count": 760,
   "id": "fb0cf387",
   "metadata": {},
   "outputs": [],
   "source": [
    "#Extracting only \"Years\" from \"GAME_DATE\"\n",
    "la_lakers_DF_withlebron['Year'] = pd.DatetimeIndex(la_lakers_DF_withlebron['GAME_DATE']).year\n",
    "la_lakers_lebron_DF = la_lakers_DF_withlebron\n",
    "\n",
    "#Including only columns which we are analysising\n",
    "a = la_lakers_lebron_DF.loc[:,['GAME_DATE', 'Year', 'PTS','WL']]\n",
    "\n",
    "lal_DF_lebron = a.rename(columns={\"PTS\": \"LAL_Mean_Lebron\"})\n",
    "lal_mean_lebron_DF = lal_DF_lebron.groupby(\"Year\").mean().reset_index()"
   ]
  },
  {
   "cell_type": "code",
   "execution_count": 761,
   "id": "3eb95ecf",
   "metadata": {},
   "outputs": [],
   "source": [
    "years = lal_mean_lebron_DF['Year'].tolist()\n"
   ]
  },
  {
   "cell_type": "code",
   "execution_count": 762,
   "id": "b31fedec",
   "metadata": {},
   "outputs": [
    {
     "name": "stderr",
     "output_type": "stream",
     "text": [
      "C:\\Users\\yfkok\\anaconda3\\envs\\pyvizenv\\lib\\site-packages\\ipykernel_launcher.py:7: FutureWarning: Dropping of nuisance columns in DataFrame reductions (with 'numeric_only=None') is deprecated; in a future version this will raise TypeError.  Select only valid columns before calling the reduction.\n",
      "  import sys\n"
     ]
    }
   ],
   "source": [
    "#Calculating standard deviation of each year's points\n",
    "#Have to extract each year's data separately for std.function to work\n",
    "#append each year's SD into a dataframe\n",
    "team_SD2 = pd.DataFrame()\n",
    "team_winrate2 = []\n",
    "for year in years:\n",
    "    lal_SD = lal_DF_lebron.loc[lal_DF_lebron['Year'] == year].std().drop(\"Year\")\n",
    "    a = list(lal_SD)\n",
    "    team_SD2 = team_SD2.append(a)\n",
    "    \n",
    "    a = lal_DF_lebron.loc[lal_DF_lebron['Year'] == year]\n",
    "    lal_WR = a['WL'].to_list()\n",
    "    winrate = lal_WR.count('W')/len(lal_WR)\n",
    "    team_winrate2.append(winrate)"
   ]
  },
  {
   "cell_type": "code",
   "execution_count": 763,
   "id": "a1b13a4f",
   "metadata": {},
   "outputs": [
    {
     "data": {
      "text/html": [
       "<div>\n",
       "<style scoped>\n",
       "    .dataframe tbody tr th:only-of-type {\n",
       "        vertical-align: middle;\n",
       "    }\n",
       "\n",
       "    .dataframe tbody tr th {\n",
       "        vertical-align: top;\n",
       "    }\n",
       "\n",
       "    .dataframe thead th {\n",
       "        text-align: right;\n",
       "    }\n",
       "</style>\n",
       "<table border=\"1\" class=\"dataframe\">\n",
       "  <thead>\n",
       "    <tr style=\"text-align: right;\">\n",
       "      <th></th>\n",
       "      <th>LAL_Mean_Lebron</th>\n",
       "      <th>LAL_SD</th>\n",
       "      <th>LAL_WR</th>\n",
       "    </tr>\n",
       "    <tr>\n",
       "      <th>Year</th>\n",
       "      <th></th>\n",
       "      <th></th>\n",
       "      <th></th>\n",
       "    </tr>\n",
       "  </thead>\n",
       "  <tbody>\n",
       "    <tr>\n",
       "      <th>2018</th>\n",
       "      <td>113.351351</td>\n",
       "      <td>10.799219</td>\n",
       "      <td>0.567568</td>\n",
       "    </tr>\n",
       "    <tr>\n",
       "      <th>2019</th>\n",
       "      <td>109.021739</td>\n",
       "      <td>13.832577</td>\n",
       "      <td>0.521739</td>\n",
       "    </tr>\n",
       "    <tr>\n",
       "      <th>2020</th>\n",
       "      <td>114.154930</td>\n",
       "      <td>11.789399</td>\n",
       "      <td>0.718310</td>\n",
       "    </tr>\n",
       "    <tr>\n",
       "      <th>2021</th>\n",
       "      <td>107.064516</td>\n",
       "      <td>13.295113</td>\n",
       "      <td>0.516129</td>\n",
       "    </tr>\n",
       "    <tr>\n",
       "      <th>2022</th>\n",
       "      <td>112.073171</td>\n",
       "      <td>10.320829</td>\n",
       "      <td>0.317073</td>\n",
       "    </tr>\n",
       "  </tbody>\n",
       "</table>\n",
       "</div>"
      ],
      "text/plain": [
       "      LAL_Mean_Lebron     LAL_SD    LAL_WR\n",
       "Year                                      \n",
       "2018       113.351351  10.799219  0.567568\n",
       "2019       109.021739  13.832577  0.521739\n",
       "2020       114.154930  11.789399  0.718310\n",
       "2021       107.064516  13.295113  0.516129\n",
       "2022       112.073171  10.320829  0.317073"
      ]
     },
     "execution_count": 763,
     "metadata": {},
     "output_type": "execute_result"
    }
   ],
   "source": [
    "#creating winrate dataframe\n",
    "WR_DF2 = pd.DataFrame(team_winrate2) \n",
    "WR_DF2['Year'] = years\n",
    "WR_DF2 = WR_DF2.set_index('Year').rename(columns={0: 'LAL_WR'})\n",
    "\n",
    "#creating standard deviation\n",
    "team_SD2['Year'] = years\n",
    "SD_DF2 = team_SD2.set_index('Year').rename(columns={0: 'LAL_SD'})\n",
    "\n",
    "#concatenate both mean & SD values on the same dataframe\n",
    "lal_mean_lebron_DF = lal_mean_lebron_DF.set_index(\"Year\")\n",
    "LAL_main_with_Lebron_DF = pd.concat([lal_mean_lebron_DF, SD_DF2, WR_DF2], axis='columns')\n",
    "\n",
    "LAL_main_with_Lebron_DF"
   ]
  },
  {
   "cell_type": "code",
   "execution_count": 764,
   "id": "c94840ed",
   "metadata": {},
   "outputs": [
    {
     "data": {
      "text/html": [
       "<div>\n",
       "<style scoped>\n",
       "    .dataframe tbody tr th:only-of-type {\n",
       "        vertical-align: middle;\n",
       "    }\n",
       "\n",
       "    .dataframe tbody tr th {\n",
       "        vertical-align: top;\n",
       "    }\n",
       "\n",
       "    .dataframe thead th {\n",
       "        text-align: right;\n",
       "    }\n",
       "</style>\n",
       "<table border=\"1\" class=\"dataframe\">\n",
       "  <thead>\n",
       "    <tr style=\"text-align: right;\">\n",
       "      <th></th>\n",
       "      <th>LAL_Mean_no_Lebron</th>\n",
       "      <th>LAL_SD</th>\n",
       "      <th>LAL_WR</th>\n",
       "    </tr>\n",
       "    <tr>\n",
       "      <th>Year</th>\n",
       "      <th></th>\n",
       "      <th></th>\n",
       "      <th></th>\n",
       "    </tr>\n",
       "  </thead>\n",
       "  <tbody>\n",
       "    <tr>\n",
       "      <th>2014</th>\n",
       "      <td>102.562500</td>\n",
       "      <td>10.162986</td>\n",
       "      <td>0.312500</td>\n",
       "    </tr>\n",
       "    <tr>\n",
       "      <th>2015</th>\n",
       "      <td>95.250000</td>\n",
       "      <td>12.509365</td>\n",
       "      <td>0.218750</td>\n",
       "    </tr>\n",
       "    <tr>\n",
       "      <th>2016</th>\n",
       "      <td>99.785714</td>\n",
       "      <td>12.610133</td>\n",
       "      <td>0.285714</td>\n",
       "    </tr>\n",
       "    <tr>\n",
       "      <th>2017</th>\n",
       "      <td>105.084211</td>\n",
       "      <td>12.288780</td>\n",
       "      <td>0.347368</td>\n",
       "    </tr>\n",
       "    <tr>\n",
       "      <th>2018</th>\n",
       "      <td>108.638298</td>\n",
       "      <td>11.664561</td>\n",
       "      <td>0.510638</td>\n",
       "    </tr>\n",
       "  </tbody>\n",
       "</table>\n",
       "</div>"
      ],
      "text/plain": [
       "      LAL_Mean_no_Lebron     LAL_SD    LAL_WR\n",
       "Year                                         \n",
       "2014          102.562500  10.162986  0.312500\n",
       "2015           95.250000  12.509365  0.218750\n",
       "2016           99.785714  12.610133  0.285714\n",
       "2017          105.084211  12.288780  0.347368\n",
       "2018          108.638298  11.664561  0.510638"
      ]
     },
     "execution_count": 764,
     "metadata": {},
     "output_type": "execute_result"
    }
   ],
   "source": [
    "LAL_main_DF"
   ]
  },
  {
   "cell_type": "code",
   "execution_count": null,
   "id": "42bd52b8",
   "metadata": {},
   "outputs": [],
   "source": []
  },
  {
   "cell_type": "code",
   "execution_count": null,
   "id": "9211e791",
   "metadata": {},
   "outputs": [],
   "source": []
  }
 ],
 "metadata": {
  "kernelspec": {
   "display_name": "Python [conda env:pyvizenv] *",
   "language": "python",
   "name": "conda-env-pyvizenv-py"
  },
  "language_info": {
   "codemirror_mode": {
    "name": "ipython",
    "version": 3
   },
   "file_extension": ".py",
   "mimetype": "text/x-python",
   "name": "python",
   "nbconvert_exporter": "python",
   "pygments_lexer": "ipython3",
   "version": "3.7.11"
  }
 },
 "nbformat": 4,
 "nbformat_minor": 5
}
